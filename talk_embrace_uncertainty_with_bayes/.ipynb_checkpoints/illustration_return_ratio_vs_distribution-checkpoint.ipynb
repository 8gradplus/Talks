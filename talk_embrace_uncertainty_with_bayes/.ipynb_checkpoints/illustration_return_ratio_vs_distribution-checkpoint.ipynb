{
 "cells": [
  {
   "cell_type": "code",
   "execution_count": 1,
   "metadata": {},
   "outputs": [],
   "source": [
    "import sys\n",
    "sys.path.append(\"/home/vatalla/work\")\n",
    "import networkx as nx\n",
    "import pandas as pd\n",
    "import numpy as np\n",
    "import qgrid\n",
    "from IPython.display import  HTML, Image\n",
    "import matplotlib.pyplot as plt\n",
    "from mycluster.impala_query import Impala\n",
    "from collections import namedtuple\n",
    "from scipy.special import gammaln\n",
    "\n",
    "\n",
    "%matplotlib inline"
   ]
  },
  {
   "cell_type": "code",
   "execution_count": 2,
   "metadata": {},
   "outputs": [],
   "source": [
    "FIRMA = \"100\"\n",
    "LAND = \"004\"\n",
    "WG = \"666\"\n",
    "FROM_DATE = \"2017-04-24\"\n",
    "TO_DATE = \"2018-04-24\""
   ]
  },
  {
   "cell_type": "markdown",
   "metadata": {},
   "source": [
    "### Aggregate Data  take only 3000 "
   ]
  },
  {
   "cell_type": "code",
   "execution_count": 3,
   "metadata": {},
   "outputs": [],
   "source": [
    "query_template= \"\"\"\n",
    "SELECT r.varianten_nummer, \n",
    "       sum(r.bestell_stueckzahl) as n_ordered, \n",
    "       sum(r.retoure_stueckzahl) as n_returned, \n",
    "       sum(r.retoure_stueckzahl_zu_gross) as n_returned_too_large, \n",
    "       sum(r.retoure_stueckzahl_zu_klein) as n_returned_too_small,\n",
    "       sum(r.retoure_stueckzahl) / sum(r.bestell_stueckzahl) as return_ratio\n",
    "From\n",
    "(Select \n",
    "       konto_nummer,\n",
    "       auftrags_identifikation,\n",
    "       varianten_groesse,\n",
    "       grund_retoure,\n",
    "       waren_gruppe,\n",
    "       varianten_nummer,\n",
    "       retoure_stueckzahl,\n",
    "       bestell_stueckzahl,\n",
    "       CASE WHEN grund_retoure in ('51','53','55','61','63','65') then retoure_stueckzahl else 0 end as retoure_stueckzahl_zu_klein,\n",
    "       CASE WHEN grund_retoure in ('50','52','54','60','62','64') then retoure_stueckzahl else 0 end as retoure_stueckzahl_zu_gross\n",
    "FROM auftragsdaten.erfolge_a\n",
    "WHERE datum_auftrag BETWEEN '{from_date}' AND '{to_date}'\n",
    "and firma = '{firma}'\n",
    "AND land = '{land}'\n",
    "and waren_gruppe = '{wg}') r\n",
    "GROUP BY r.varianten_nummer\n",
    "\"\"\""
   ]
  },
  {
   "cell_type": "code",
   "execution_count": 5,
   "metadata": {},
   "outputs": [],
   "source": [
    "# TODO: remove limit 1000  due to memory error\n",
    "query = query_template.format(firma=FIRMA, land=LAND, wg=WG, from_date=FROM_DATE, to_date=TO_DATE) + \"limit 3000\"\n",
    "data = Impala(\"default\").query(query).set_index('varianten_nummer')"
   ]
  },
  {
   "cell_type": "code",
   "execution_count": 6,
   "metadata": {},
   "outputs": [],
   "source": [
    "from matplotlib import rc, rcParams\n",
    "\n",
    "rc('text', usetex=True)\n",
    "color=\"yellow\"\n",
    "rcParams.update({'figure.figsize': [14,5],\n",
    "                 'text.color' : color,\n",
    "                 'font.size': 20,\n",
    "                 'axes.labelcolor' : color, \n",
    "                 'xtick.color': color, \n",
    "                 'ytick.color': color,\n",
    "                 'legend.framealpha': 0, \n",
    "                 'legend.edgecolor': 'none'\n",
    "                 })\n"
   ]
  },
  {
   "cell_type": "markdown",
   "metadata": {},
   "source": [
    "### Make some plots for illustration"
   ]
  },
  {
   "cell_type": "code",
   "execution_count": 7,
   "metadata": {},
   "outputs": [],
   "source": [
    "def marginal_posterior(A, B, n, y):\n",
    "    \"\"\"compute the marginal posterior of alpha and beta in the hierarchical model in a grid\n",
    "    This is done on the log scale and then back transformed to avoid numerical underflow\n",
    "    A: A_grid\n",
    "    B: B_grid\n",
    "    n: array of tries\n",
    "    y: array of successes\n",
    "    \"\"\"\n",
    "    lp = (\n",
    "      - 5/2 * np.log(A + B[:, None])\n",
    "      + np.sum(\n",
    "            gammaln(A + B[:, None])\n",
    "          - gammaln(A)\n",
    "          - gammaln(B[:, None])\n",
    "          + gammaln(A + y[:, None, None])\n",
    "          + gammaln(B[:,None] + (n - y)[:, None, None])\n",
    "          - gammaln(A + B[:,None] + n[:, None, None]),\n",
    "            axis=0\n",
    "        )\n",
    "    )\n",
    "    lp -= lp.max()\n",
    "    return np.exp(lp)\n",
    "\n",
    "def sample_alpha_beta_posterior(A, B, p, nsamp=1000):\n",
    "    samp_indices = np.unravel_index(\n",
    "        np.random.choice(p.size, size=nsamp, p=p.ravel()/p.sum()),\n",
    "        p.shape\n",
    "    )\n",
    "    samp_A = A[samp_indices[1]]\n",
    "    samp_B = B[samp_indices[0]]\n",
    "    # add random jitter, see BDA3 p. 76\n",
    "    samp_A += (np.random.rand(nsamp) - 0.5) * (A[1]-A[0])\n",
    "    samp_B += (np.random.rand(nsamp) - 0.5) * (B[1]-B[0])\n",
    "    return pd.DataFrame({'alpha':samp_A, 'beta':samp_B})\n",
    "\n",
    "def get_predictive_alpha_beta_trace_rq(data:pd.DataFrame, trial: str='n_ordered', success: str='n_returned'):\n",
    "    A = np.linspace(0.1, 20, 500)\n",
    "    B = np.linspace(10, 35, 500)\n",
    "    ns = data[trial].values\n",
    "    ys = data[success].values\n",
    "    return sample_alpha_beta_posterior(A, B, marginal_posterior(A, B, ns, ys))\n",
    "  \n",
    "def get_posterior(alpha_beta_trace, trial, success):\n",
    "    return np.random.beta(alpha_beta_trace.alpha + success, alpha_beta_trace.beta + (trial - success))"
   ]
  },
  {
   "cell_type": "code",
   "execution_count": 16,
   "metadata": {},
   "outputs": [],
   "source": [
    "def plot_return_problem(ax, prior, posterior, buys, returns):\n",
    "    #fig, ax = plt.subplots(figsize = (12, 4))\n",
    "    mean = posterior.mean()\n",
    "    rq=returns/buys\n",
    "    ax.hist(prior, color='yellow', bins=20, normed=True, label='prior');\n",
    "    ax.hist(posterior, color=\"#F08080\", bins=20, normed=True, label='posterior');\n",
    "    ax.set_xlim(0,1)\n",
    "    ax.set_ylim(0,8)\n",
    "    ax.axvline(prior.mean(), linestyle='--', color='black', alpha=.3)\n",
    "\n",
    "    ax.annotate(r\"$\\langle\\theta\\rangle$\",\n",
    "            bbox=dict(boxstyle=\"round4\", fc=\"w\"),\n",
    "                color='k',\n",
    "            xy=(mean, 0), xycoords='data',\n",
    "            xytext=(mean, 4), textcoords='data',size=15, va=\"center\", ha=\"center\",\n",
    "            arrowprops=dict(arrowstyle=\"->\",\n",
    "                            connectionstyle=\"arc3\"),\n",
    "            )\n",
    "    \n",
    "    \n",
    "    ax.annotate(\"rq\",\n",
    "            bbox=dict(boxstyle=\"round4\", fc=\"w\"),\n",
    "            xy=(rq, 0), xycoords='data',color='k',\n",
    "            xytext=(rq, 1.5), textcoords='data',size=15, va=\"center\", ha=\"center\",\n",
    "            arrowprops=dict(arrowstyle=\"->\",\n",
    "                            connectionstyle=\"arc3\"),\n",
    "            )\n",
    "    low_percentile = np.percentile(posterior, 5)\n",
    "    high_percentile = np.percentile(posterior, 95)\n",
    "    ax.annotate(\"\",\n",
    "            xy=(low_percentile, 7), xycoords='data',\n",
    "            xytext=(high_percentile, 7), textcoords='data',\n",
    "            arrowprops=dict(arrowstyle=\"<->\", linestyle='-', color=\"yellow\"),\n",
    "            )\n",
    "    spread_text_x = .5 * (low_percentile + high_percentile)\n",
    "    \n",
    "    ax.annotate(\n",
    "    'Spread', xy=(spread_text_x, 6), xycoords='data', ha=\"center\", size=15,\n",
    "    xytext=(spread_text_x, 6), textcoords='data')\n",
    "    \n",
    "    ax.set_ylabel(r\"$p(\\theta)$\")\n",
    "    ax.set_yticklabels([])\n",
    "    ax.set_yticks([])\n",
    "    ax.set_title(\"{r} returned / {b} ordered\".format(r=returns, b=buys))\n",
    "    ax.legend()\n",
    "    \n",
    "    ax.spines['bottom'].set_color('yellow')\n",
    "    ax.spines['top'].set_color('yellow') \n",
    "    ax.spines['right'].set_color('yellow')\n",
    "    ax.spines['left'].set_color('yellow')\n",
    "    \n",
    "    return ax"
   ]
  },
  {
   "cell_type": "code",
   "execution_count": 9,
   "metadata": {},
   "outputs": [],
   "source": [
    "setup = namedtuple('setup', ['prior', 'posterior', 'buys', 'returns'])"
   ]
  },
  {
   "cell_type": "code",
   "execution_count": 10,
   "metadata": {},
   "outputs": [],
   "source": [
    "alpha_beta_trace_rq = get_predictive_alpha_beta_trace_rq(data)\n",
    "prior = get_posterior(alpha_beta_trace_rq, 0 , 0)\n",
    "setups = [setup(prior, get_posterior(alpha_beta_trace_rq, 10, 8), 10, 8),\n",
    "          setup(prior, get_posterior(alpha_beta_trace_rq, 50, 40), 50, 40),\n",
    "          setup(prior, get_posterior(alpha_beta_trace_rq, 100, 80), 100, 80)#,\n",
    "          #setup(prior, get_posterior(alpha_beta_trace_rq, 1000, 800), 1000, 800)\n",
    "          \n",
    "         ]"
   ]
  },
  {
   "cell_type": "code",
   "execution_count": 17,
   "metadata": {},
   "outputs": [
    {
     "data": {
      "image/png": "[encoded data removed]",
      "text/plain": [
       "<matplotlib.figure.Figure at 0x7f5d33e28c88>"
      ]
     },
     "metadata": {},
     "output_type": "display_data"
    }
   ],
   "source": [
    "fig, ax = plt.subplots(nrows = 3, figsize = (12, 8), sharex=True, sharey=True)\n",
    "for i, s in enumerate(setups):\n",
    "    ax[i] = plot_return_problem(ax[i], s.prior, s.posterior, s.buys, s.returns)\n",
    "    ax[i].patch.set_visible(False)\n",
    "ax[2].set_xlabel(r\"$\\theta$\")\n",
    "fig.patch.set_alpha(0.0) # transparent background\n",
    "fig.savefig(\"img/return_machinery.svg\", format='svg', bbox_inches=0, tranparent=True)"
   ]
  },
  {
   "cell_type": "code",
   "execution_count": 32,
   "metadata": {},
   "outputs": [
    {
     "data": {
      "image/png": "[encoded data removed]",
      "text/plain": [
       "<matplotlib.figure.Figure at 0x7f0ddaf944e0>"
      ]
     },
     "metadata": {},
     "output_type": "display_data"
    }
   ],
   "source": [
    "fig, ax = plt.subplots(1, figsize=(12, 4))\n",
    "ax.hist(data.return_ratio, color=\"#F08080\", bins=20, label='Distribution of return ratios', normed=True);\n",
    "ax.hist(prior, color=color, bins=20, alpha=.7, label='Predictive Prior',  normed=True)\n",
    "ax.set_xlabel(r\"\\theta\")\n",
    "ax.set_ylabel(r\"$p(\\theta)$\")\n",
    "ax.set_yticklabels([])\n",
    "ax.set_yticks([])\n",
    "ax.legend()\n",
    "ax.spines['bottom'].set_color(color)\n",
    "ax.spines['left'].set_color(color)\n",
    "\n",
    "for side in ['right','top']:\n",
    "    ax.spines[side].set_visible(False)\n",
    "    \n",
    "ax.patch.set_visible(False)\n",
    "ax.legend()\n",
    "fig.patch.set_alpha(0.0) # transparent background\n",
    "\n",
    "fig.savefig(\"img/return_problem.svg\", format='svg', bbox_inches=0, tranparent=True)"
   ]
  },
  {
   "cell_type": "code",
   "execution_count": 28,
   "metadata": {},
   "outputs": [
    {
     "data": {
      "image/png": "[encoded data removed]",
      "text/plain": [
       "<matplotlib.figure.Figure at 0x7f0dd98a8668>"
      ]
     },
     "metadata": {},
     "output_type": "display_data"
    }
   ],
   "source": [
    "fig, ax = plt.subplots(1, figsize=(12, 4))\n",
    "ax.hist(data.return_ratio.values, color=\"#F08080\", bins=20, normed=True);\n",
    "ax.set_xlabel(r\"Return ratio\")\n",
    "ax.set_ylabel(r\"$p$\")\n",
    "ax.set_yticklabels([])\n",
    "ax.set_yticks([])\n",
    "ax.legend()\n",
    "ax.spines['bottom'].set_color(color)\n",
    "ax.spines['left'].set_color(color)\n",
    "\n",
    "for side in ['right','top']:\n",
    "    ax.spines[side].set_visible(False)\n",
    "    \n",
    "ax.patch.set_visible(False)\n",
    "ax.legend()\n",
    "fig.patch.set_alpha(0.0) # transparent background\n",
    "\n",
    "fig.savefig(\"img/motivation.svg\", format='svg', bbox_inches=0, tranparent=True)"
   ]
  },
  {
   "cell_type": "code",
   "execution_count": null,
   "metadata": {},
   "outputs": [],
   "source": []
  }
 ],
 "metadata": {
  "anaconda-cloud": {},
  "kernelspec": {
   "display_name": "Python 3",
   "language": "python",
   "name": "python3"
  },
  "language_info": {
   "codemirror_mode": {
    "name": "ipython",
    "version": 3
   },
   "file_extension": ".py",
   "mimetype": "text/x-python",
   "name": "python",
   "nbconvert_exporter": "python",
   "pygments_lexer": "ipython3",
   "version": "3.6.6"
  }
 },
 "nbformat": 4,
 "nbformat_minor": 2
}
